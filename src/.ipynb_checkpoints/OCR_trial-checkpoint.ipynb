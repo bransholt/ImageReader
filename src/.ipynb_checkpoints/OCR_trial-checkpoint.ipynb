{
 "cells": [
  {
   "cell_type": "code",
   "execution_count": 1,
   "metadata": {},
   "outputs": [],
   "source": [
    "#necessary Imports\n",
    "import os\n",
    "import sys\n",
    "import pytesseract\n",
    "from PIL import Image\n",
    "from pdf2image import convert_from_path"
   ]
  },
  {
   "cell_type": "code",
   "execution_count": 2,
   "metadata": {},
   "outputs": [
    {
     "name": "stdout",
     "output_type": "stream",
     "text": [
      "['.ipynb_checkpoints', 'Capture.PNG', 'converting', 'cropped']\n"
     ]
    }
   ],
   "source": [
    "fp = '../data/queue/'\n",
    "files_in_queue = os.listdir(fp)\n",
    "print(files_in_queue)"
   ]
  },
  {
   "cell_type": "code",
   "execution_count": 2,
   "metadata": {},
   "outputs": [],
   "source": [
    "#path of the pdf\n",
    "#PDF_file = 'sample.pdf'\n",
    "pytesseract.pytesseract.tesseract_cmd = r'C:\\Users\\brigh\\AppData\\Local\\Tesseract-OCR\\tesseract.exe'"
   ]
  },
  {
   "cell_type": "code",
   "execution_count": 3,
   "metadata": {},
   "outputs": [],
   "source": [
    "In the case that a file that is provided is a pdf instead of an image we will have to convert that pdf\n",
    "to an image (png)\n",
    "\n",
    "''' \n",
    "Part #1 : Converting PDF to images \n",
    "'''\n",
    "  \n",
    "# Store all the pages of the PDF in a variable \n",
    "pages = convert_from_path(PDF_file, 500) \n",
    "  \n",
    "# Counter to store images of each page of PDF to image \n",
    "image_counter = 1\n",
    "  \n",
    "# Iterate through all the pages stored above \n",
    "for page in pages: \n",
    "  \n",
    "    # Declaring filename for each page of PDF as JPG \n",
    "    # For each page, filename will be: \n",
    "    # PDF page 1 -> page_1.jpg \n",
    "    # PDF page 2 -> page_2.jpg \n",
    "    # PDF page 3 -> page_3.jpg \n",
    "    # .... \n",
    "    # PDF page n -> page_n.jpg \n",
    "    filename = \"page_\"+str(image_counter)+\".jpg\"\n",
    "      \n",
    "    # Save the image of the page in system \n",
    "    page.save(filename, 'JPEG') \n",
    "  \n",
    "    # Increment the counter to update filename \n",
    "    image_counter = image_counter + 1"
   ]
  },
  {
   "cell_type": "code",
   "execution_count": 74,
   "metadata": {},
   "outputs": [
    {
     "name": "stdout",
     "output_type": "stream",
     "text": [
      "1557 1059\n"
     ]
    }
   ],
   "source": [
    "filename = \"Capture.png\"\n",
    "im = Image.open(filename)\n",
    "width, height = im.size\n",
    "print(width, height)"
   ]
  },
  {
   "cell_type": "code",
   "execution_count": 75,
   "metadata": {},
   "outputs": [],
   "source": [
    "#This works at the moment by cropping the image like this we eliminate unnecessary text on the top so that the first\n",
    "#line should be the name of the person of interest\n",
    "im1 = im.crop((0, height/3.3, width, height))\n",
    "im1.save('capcropped.png')\n",
    "filename = 'capcropped.png'"
   ]
  },
  {
   "cell_type": "code",
   "execution_count": 76,
   "metadata": {},
   "outputs": [
    {
     "name": "stdout",
     "output_type": "stream",
     "text": [
      "Jonathan N. Doe\n",
      "DOD-IAA-V16.0\n",
      "December 10, 2018\n"
     ]
    }
   ],
   "source": [
    "''' \n",
    "Part #2 - Recognizing text from the images using OCR \n",
    "'''\n",
    "# Variable to get count of total number of pages \n",
    "\n",
    "  \n",
    "# Creating a text file to write the output \n",
    "outfile = \"out_text.txt\"\n",
    "  \n",
    "# Open the file in append mode so that  \n",
    "# All contents of all images are added to the same file \n",
    "f = open(outfile, \"a\") \n",
    "  \n",
    "\n",
    "  \n",
    "    # Set filename to recognize text from \n",
    "    # Again, these files will be: \n",
    "    # page_1.jpg \n",
    "    # page_2.jpg \n",
    "    # .... \n",
    "    # page_n.jpg \n",
    "          \n",
    "    # Recognize the text as string in image using pytesserct \n",
    "text = str(((pytesseract.image_to_string(Image.open(filename))))) \n",
    "  \n",
    "    # The recognized text is stored in variable text \n",
    "    # Any string processing may be applied on text \n",
    "    # Here, basic formatting has been done: \n",
    "    # In many PDFs, at line ending, if a word can't \n",
    "    # be written fully, a 'hyphen' is added. \n",
    "    # The rest of the word is written in the next line \n",
    "    # Eg: This is a sample text this word here GeeksF- \n",
    "    # orGeeks is half on first line, remaining on next. \n",
    "    # To remove this, we replace every '-\\n' to ''. \n",
    "text = text.replace('-\\n', '')\n",
    "text = text.replace('\\n', ' ')\n",
    "#print(text)\n",
    "loc_name = text.find('has')\n",
    "name = text[:17].strip()\n",
    "print(name)\n",
    "course_low = text.find('ID:') +3\n",
    "course_up = text.find('Inst')\n",
    "course = text[course_low:course_up].strip()\n",
    "print(course)\n",
    "date_low = text.find(' ON') +3\n",
    "date_up = text.find('(S')\n",
    "date = text[date_low:date_up].strip()\n",
    "print(date)\n",
    "  \n",
    "    # Finally, write the processed text to the file. \n",
    "f.write(text) \n",
    "  \n",
    "# close the file after writing all the text. \n",
    "f.close() "
   ]
  },
  {
   "cell_type": "code",
   "execution_count": null,
   "metadata": {},
   "outputs": [],
   "source": [
    "#Planning: "
   ]
  },
  {
   "cell_type": "code",
   "execution_count": null,
   "metadata": {},
   "outputs": [],
   "source": []
  },
  {
   "cell_type": "code",
   "execution_count": null,
   "metadata": {},
   "outputs": [],
   "source": []
  }
 ],
 "metadata": {
  "kernelspec": {
   "display_name": "Python 3",
   "language": "python",
   "name": "python3"
  },
  "language_info": {
   "codemirror_mode": {
    "name": "ipython",
    "version": 3
   },
   "file_extension": ".py",
   "mimetype": "text/x-python",
   "name": "python",
   "nbconvert_exporter": "python",
   "pygments_lexer": "ipython3",
   "version": "3.8.0"
  }
 },
 "nbformat": 4,
 "nbformat_minor": 2
}
